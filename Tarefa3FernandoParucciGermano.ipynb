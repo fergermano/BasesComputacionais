{
  "nbformat": 4,
  "nbformat_minor": 0,
  "metadata": {
    "colab": {
      "provenance": [],
      "authorship_tag": "ABX9TyNbPPF0nlwdT6l0GbNnoPAC",
      "include_colab_link": true
    },
    "kernelspec": {
      "name": "python3",
      "display_name": "Python 3"
    },
    "language_info": {
      "name": "python"
    }
  },
  "cells": [
    {
      "cell_type": "markdown",
      "metadata": {
        "id": "view-in-github",
        "colab_type": "text"
      },
      "source": [
        "<a href=\"https://colab.research.google.com/github/fergermano/BasesComputacionais/blob/master/Tarefa3FernandoParucciGermano.ipynb\" target=\"_parent\"><img src=\"https://colab.research.google.com/assets/colab-badge.svg\" alt=\"Open In Colab\"/></a>"
      ]
    },
    {
      "cell_type": "markdown",
      "source": [
        "**Fernando Parucci Germano**"
      ],
      "metadata": {
        "id": "DJUI9mP3jFlh"
      }
    },
    {
      "cell_type": "markdown",
      "source": [
        "Este notebook tem por finalidade calcular o número de segundos  \"s\" , dado o número de horas contida em uma variável  \"h\" .\n",
        "Desta forma basta dar o numero de horas para a variavel \"h\" que sera retornado o total de segundos como resposta."
      ],
      "metadata": {
        "id": "yU-EGy2zqA14"
      }
    },
    {
      "cell_type": "code",
      "source": [
        "s = 60\n",
        "h = 1.5\n",
        "r = s*h\n",
        "print('Em' ,h, f'horas há {r:.0f} segundos')\n",
        "h = 12\n",
        "r = s*h\n",
        "print('Em' ,h, f'horas há {r:.0f} segundos')\n",
        "h = 24\n",
        "r = s*h\n",
        "print('Em' ,h, f'horas há {r:.0f} segundos')"
      ],
      "metadata": {
        "colab": {
          "base_uri": "https://localhost:8080/"
        },
        "id": "JpXmy94-o-3X",
        "outputId": "f5fdd1c0-d40f-4124-8911-15cae1151d34"
      },
      "execution_count": 102,
      "outputs": [
        {
          "output_type": "stream",
          "name": "stdout",
          "text": [
            "Em 1.5 horas há 90 segundos\n",
            "Em 12 horas há 720 segundos\n",
            "Em 24 horas há 1440 segundos\n"
          ]
        }
      ]
    },
    {
      "cell_type": "code",
      "source": [
        "s = 60\n",
        "h = 1.5\n",
        "r = s*h\n",
        "print('Em' ,h, f'horas há {r:.0f} segundos')"
      ],
      "metadata": {
        "colab": {
          "base_uri": "https://localhost:8080/"
        },
        "id": "Wwn699PgwQSA",
        "outputId": "c612e630-b6f7-446f-b715-e8e80982acca"
      },
      "execution_count": 103,
      "outputs": [
        {
          "output_type": "stream",
          "name": "stdout",
          "text": [
            "Em 1.5 horas há 90 segundos\n"
          ]
        }
      ]
    },
    {
      "cell_type": "code",
      "source": [
        "s = 60\n",
        "h = 12\n",
        "r = s*h\n",
        "print('Em' ,h, f'horas há  {r:.0f} segundos')"
      ],
      "metadata": {
        "colab": {
          "base_uri": "https://localhost:8080/"
        },
        "outputId": "0bb4b8b0-d879-452c-f3dc-d97c532ebb79",
        "id": "_5FtOUmHpyp2"
      },
      "execution_count": 97,
      "outputs": [
        {
          "output_type": "stream",
          "name": "stdout",
          "text": [
            "Em 12 horas há  720 segundos\n"
          ]
        }
      ]
    },
    {
      "cell_type": "code",
      "source": [
        "s = 60\n",
        "h = 24\n",
        "r = s*h\n",
        "print('Em' ,h, f'horas há  {r:.0f} segundos')"
      ],
      "metadata": {
        "colab": {
          "base_uri": "https://localhost:8080/"
        },
        "outputId": "f77a751c-4db4-4230-9053-d139433c7b2e",
        "id": "jLagYPxupy2F"
      },
      "execution_count": 99,
      "outputs": [
        {
          "output_type": "stream",
          "name": "stdout",
          "text": [
            "Em 24 horas há  1440 segundos\n"
          ]
        }
      ]
    }
  ]
}