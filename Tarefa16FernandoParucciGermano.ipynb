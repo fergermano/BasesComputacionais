{
  "nbformat": 4,
  "nbformat_minor": 0,
  "metadata": {
    "colab": {
      "provenance": [],
      "authorship_tag": "ABX9TyMfXDl4IpPMtg/ZAr0PvBCp",
      "include_colab_link": true
    },
    "kernelspec": {
      "name": "python3",
      "display_name": "Python 3"
    },
    "language_info": {
      "name": "python"
    }
  },
  "cells": [
    {
      "cell_type": "markdown",
      "metadata": {
        "id": "view-in-github",
        "colab_type": "text"
      },
      "source": [
        "<a href=\"https://colab.research.google.com/github/fergermano/BasesComputacionais/blob/master/Tarefa16FernandoParucciGermano.ipynb\" target=\"_parent\"><img src=\"https://colab.research.google.com/assets/colab-badge.svg\" alt=\"Open In Colab\"/></a>"
      ]
    },
    {
      "cell_type": "markdown",
      "source": [
        "## Fernando Parucci Germano 11202231648"
      ],
      "metadata": {
        "id": "5vxOS_EG5TNf"
      }
    },
    {
      "cell_type": "markdown",
      "source": [
        "**1)** Faça uma função que receba um vetor **t**,um valor **A**, um valor **b** e um valor **c** e retorne um outro vetor **x**.\n",
        "\n",
        "$$x(t)  = A\\sqrt{1+bt^2} + c$$\n",
        "\n",
        "Além disso a função deve plotar o gráfico de **x** em função de **t**.\n",
        "\n",
        "Teste para \n",
        "- *a)* t indo de 0 a 10 com 1000 pontos, A = 2, b = 0.5, c = 0; \n",
        "- *b)* t indo de 0 a 15 com intervalo de 0.2 entre os valores do vetor, A = 10, b = 0.2, c = 1\n",
        "- *c*) t indo de -0,5 a 0,5 com 500 pontos, A = -3, b = -1.5, c = -10; "
      ],
      "metadata": {
        "id": "SLI306t6RF-P"
      }
    },
    {
      "cell_type": "code",
      "execution_count": 555,
      "metadata": {
        "id": "oNSva-Z_REs4"
      },
      "outputs": [],
      "source": [
        "import matplotlib.pyplot as plt\n",
        "import numpy as np\n",
        "def funcaoXT(t, A, b, c):\n",
        "    x=A*np.sqrt(1+b*t**2)+c\n",
        "      \n",
        "\n",
        "    return x"
      ]
    },
    {
      "cell_type": "markdown",
      "source": [
        "- *a)* t indo de 0 a 10 com 1000 pontos, A = 2, b = 0.5, c = 0; "
      ],
      "metadata": {
        "id": "WYynm7nMV-7n"
      }
    },
    {
      "cell_type": "code",
      "source": [
        "t1 = np.linspace(0, 10, 1000)\n",
        "A1 = 2\n",
        "b1 = 0.5\n",
        "c1 = 0\n",
        "x1=funcaoXT(t1, A1, b1, c1)\n",
        "\n",
        "plt.figure(figsize=(6,4))\n",
        "plt.plot(x1,t1, marker='', color='blue', linestyle='-')\n",
        "plt.xlabel('x', fontsize=25)\n",
        "plt.ylabel('t', fontsize=25)\n",
        "plt.grid()\n",
        "plt.show()"
      ],
      "metadata": {
        "colab": {
          "base_uri": "https://localhost:8080/",
          "height": 293
        },
        "id": "ehe_-gHEVAmH",
        "outputId": "13d87965-34f0-4f16-d859-52ac741a41b7"
      },
      "execution_count": 556,
      "outputs": [
        {
          "output_type": "display_data",
          "data": {
            "text/plain": [
              "<Figure size 432x288 with 1 Axes>"
            ],
            "image/png": "[encoded data removed]"
          },
          "metadata": {
            "needs_background": "light"
          }
        }
      ]
    },
    {
      "cell_type": "markdown",
      "source": [
        "- *b)* t indo de 0 a 15 com intervalo de 0.2 entre os valores do vetor, A = 10, b = 0.2, c = 1"
      ],
      "metadata": {
        "id": "V1d0mVvyapYo"
      }
    },
    {
      "cell_type": "code",
      "source": [
        "t2 = np.arange(0, 15.2, 0.2)\n",
        "A2 = 10\n",
        "b2 = 0.2\n",
        "c2 = 1\n",
        "x2=funcaoXT(t2, A2, b2, c2)\n",
        "\n",
        "plt.figure(figsize=(6,4))\n",
        "plt.plot(x2,t2, marker='', color='purple', linestyle='-')\n",
        "plt.xlabel('x', fontsize=25)\n",
        "plt.ylabel('t', fontsize=25)\n",
        "plt.grid()\n",
        "plt.show()"
      ],
      "metadata": {
        "colab": {
          "base_uri": "https://localhost:8080/",
          "height": 293
        },
        "id": "9-p8wcZNap4S",
        "outputId": "4ed4e4ec-5009-4996-d2a4-d3aed12e97d8"
      },
      "execution_count": 557,
      "outputs": [
        {
          "output_type": "display_data",
          "data": {
            "text/plain": [
              "<Figure size 432x288 with 1 Axes>"
            ],
            "image/png": "[encoded data removed]"
          },
          "metadata": {
            "needs_background": "light"
          }
        }
      ]
    },
    {
      "cell_type": "markdown",
      "source": [
        "- *c*) t indo de -0,5 a 0,5 com 500 pontos, A = -3, b = -1.5, c = -10; "
      ],
      "metadata": {
        "id": "EUaVoF42cEJp"
      }
    },
    {
      "cell_type": "code",
      "source": [
        "t3 = np.linspace(-.5, .5, 500)\n",
        "A3 = -3\n",
        "b3 = -1.5\n",
        "c3 = -10\n",
        "x3=funcaoXT(t3, A3, b3, c3)\n",
        "\n",
        "plt.figure(figsize=(6,4))\n",
        "plt.plot(x3,t3, marker='', color='red', linestyle='-')\n",
        "plt.xlabel('x', fontsize=25)\n",
        "plt.ylabel('t', fontsize=25)\n",
        "plt.grid()\n",
        "plt.show()"
      ],
      "metadata": {
        "colab": {
          "base_uri": "https://localhost:8080/",
          "height": 293
        },
        "id": "AsXMVgMJcFPu",
        "outputId": "5fac51ef-df72-451e-bd2c-98d8fbe96b12"
      },
      "execution_count": 558,
      "outputs": [
        {
          "output_type": "display_data",
          "data": {
            "text/plain": [
              "<Figure size 432x288 with 1 Axes>"
            ],
            "image/png": "[encoded data removed]"
          },
          "metadata": {
            "needs_background": "light"
          }
        }
      ]
    },
    {
      "cell_type": "markdown",
      "source": [
        "**2)** Faça uma função que ao ser executada sorteia um número entre 0 e 1. Se esse número for menor do que 0,5 apareça na tela a mensagem 'Cara'. Se esse número for maior do que 0,5  apareça a mensagem 'Coroa'. Uma sugestão do nome da função é 'cara_ou_coroa'.\n",
        "\n",
        "Teste a função chamando 10 vezes a função que você fez. \n",
        "\n",
        "Dica: o comando 'np.random.rand(n)' gera n números aleatórios entre 0 e 1."
      ],
      "metadata": {
        "id": "MyrXKzpTeJYC"
      }
    },
    {
      "cell_type": "code",
      "source": [
        "def cara_ou_coroa(a):\n",
        "    if (a<0.5):\n",
        "      print('Cara')\n",
        "       \n",
        "    else:\n",
        "      print('Coroa')"
      ],
      "metadata": {
        "id": "FpiXIbZ0eLTI"
      },
      "execution_count": 559,
      "outputs": []
    },
    {
      "cell_type": "code",
      "source": [
        "for i in np.arange(0, 10, 1):\n",
        "   a=np.random.rand(1)\n",
        "   print(a)\n",
        "   cara_ou_coroa(a)"
      ],
      "metadata": {
        "colab": {
          "base_uri": "https://localhost:8080/"
        },
        "id": "3ed4YW1mfFQx",
        "outputId": "88cc8389-3c47-4be6-9e2d-6aaf8f182177"
      },
      "execution_count": 560,
      "outputs": [
        {
          "output_type": "stream",
          "name": "stdout",
          "text": [
            "[0.94310787]\n",
            "Coroa\n",
            "[0.03609626]\n",
            "Cara\n",
            "[0.8407941]\n",
            "Coroa\n",
            "[0.27592807]\n",
            "Cara\n",
            "[0.20334329]\n",
            "Cara\n",
            "[0.13143276]\n",
            "Cara\n",
            "[0.65984437]\n",
            "Coroa\n",
            "[0.21612363]\n",
            "Cara\n",
            "[0.80138453]\n",
            "Coroa\n",
            "[0.374381]\n",
            "Cara\n"
          ]
        }
      ]
    },
    {
      "cell_type": "markdown",
      "source": [
        "**3)** Faça uma função que retorne a renda média nos jogos em que determinado time seja o time da casa. As entradas devem ser o **DataFrame do Pandas** com os jogos e o **nome do time mandante**. \n",
        "\n",
        "Para testar a função, use o arquivo [com todos os resultados do campeonato Brasileiro de futebol de 2018](../dados/tabelaBrasileirao2018.csv) (dados obtidos [desta](<https://pt.wikipedia.org/wiki/Resultados_do_Campeonato_Brasileiro_de_Futebol_de_2018_-_S%C3%A9rie_A_(primeiro_turno)>) e [desta](<https://pt.wikipedia.org/wiki/Resultados_do_Campeonato_Brasileiro_de_Futebol_de_2018_-_S%C3%A9rie_A_(segundo_turno)>) página da Wikipedia) e escolha 4 times diferentes para saber quala renda média por jogo.\n",
        "\n",
        "Dica: para usar o valor de uma variável (que tenha o nome var, por exemplo) dentro da função `query`, usar @var."
      ],
      "metadata": {
        "id": "v2m7MVQciWfz"
      }
    },
    {
      "cell_type": "code",
      "source": [
        "import numpy as np\n",
        "import pandas as pd\n",
        "tabela = pd.read_csv('https://raw.githubusercontent.com/BMClab/BasesComputacionais/master/dados/tabelaBrasileirao2018.csv')\n",
        "tabela"
      ],
      "metadata": {
        "colab": {
          "base_uri": "https://localhost:8080/",
          "height": 607
        },
        "id": "dR-2r4bHlb5U",
        "outputId": "3ea74b36-1deb-4871-e306-b3b08c43802f"
      },
      "execution_count": 561,
      "outputs": [
        {
          "output_type": "execute_result",
          "data": {
            "text/plain": [
              "           Data  Turno         Mandante  Placar do Mandante  \\\n",
              "0    14/04/2018      1         Cruzeiro                   0   \n",
              "1    14/04/2018      1          Vitória                   2   \n",
              "2    14/04/2018      1           Santos                   2   \n",
              "3    15/04/2018      1  América Mineiro                   3   \n",
              "4    15/04/2018      1    Internacional                   2   \n",
              "..          ...    ...              ...                 ...   \n",
              "375   2/12/2018      2       Fluminense                   1   \n",
              "376   2/12/2018      2            Ceará                   0   \n",
              "377   2/12/2018      2        Palmeiras                   3   \n",
              "378   2/12/2018      2           Grêmio                   1   \n",
              "379   2/12/2018      2            Sport                   2   \n",
              "\n",
              "     Placar do Visitante        Visitante  \\\n",
              "0                      1           Grêmio   \n",
              "1                      2         Flamengo   \n",
              "2                      0            Ceará   \n",
              "3                      0            Sport   \n",
              "4                      0            Bahia   \n",
              "..                   ...              ...   \n",
              "375                    0  América Mineiro   \n",
              "376                    0    Vasco da Gama   \n",
              "377                    2          Vitória   \n",
              "378                    0      Corinthians   \n",
              "379                    1           Santos   \n",
              "\n",
              "                                   Estádio Horário  \\\n",
              "0         Estádio Mineirão, Belo Horizonte   16:00   \n",
              "1               Estádio Barradão, Salvador   19:00   \n",
              "2           Estádio do Pacaembu, São Paulo   21:00   \n",
              "3    Estádio Independência, Belo Horizonte   11:00   \n",
              "4          Estádio Beira-Rio, Porto Alegre   16:00   \n",
              "..                                     ...     ...   \n",
              "375    Estádio do Maracanã, Rio de Janeiro   17:00   \n",
              "376            Estádio Castelão, Fortaleza   17:00   \n",
              "377              Allianz Parque, São Paulo   17:00   \n",
              "378          Arena do Grêmio, Porto Alegre   17:00   \n",
              "379         Estádio Ilha do Retiro, Recife   17:00   \n",
              "\n",
              "                                      Gols do Mandante  \\\n",
              "0                                                  NaN   \n",
              "1                          Yago 13' (pen) Denílson 76'   \n",
              "2                                  Pio 41' Rodrygo 49'   \n",
              "3                       Serginho 1', 40' Carlinhos 36'   \n",
              "4                                  Nico López 37', 60'   \n",
              "..                                                 ...   \n",
              "375                                        Richard 40'   \n",
              "376                                                NaN   \n",
              "377  Edu Dracena 42' Gustavo Scarpa 56' Bruno Henri...   \n",
              "378                                           Jael 11'   \n",
              "379                          Rogério 83' Hernane 90+1'   \n",
              "\n",
              "              Gols do Visitante  Público                              Árbitro  \\\n",
              "0                     54' André    15446            PR Rodolpho Toski Marques   \n",
              "1    1' Lucas Paquetá 72' Réver    12669                      MT Wagner Reway   \n",
              "2                           NaN    12268         SC Rodrigo D'Alonso Ferreira   \n",
              "3                           NaN     3230             DF Sávio Pereira Sampaio   \n",
              "4                           NaN    18460   GO Eduardo Tomaz de Aquino Valadão   \n",
              "..                          ...      ...                                  ...   \n",
              "375                         NaN    34870                      PR Rafael Traci   \n",
              "376                         NaN    57223                     SP Raphael Claus   \n",
              "377     70' (pen) Yago 72' Luan    41256               SC Héber Roberto Lopes   \n",
              "378                         NaN    38974           MG Ricardo Marques Ribeiro   \n",
              "379               90+3' Rodrygo    15214                  RS Anderson Daronco   \n",
              "\n",
              "     Renda (R$)  \n",
              "0      418305.0  \n",
              "1      238994.0  \n",
              "2      526550.0  \n",
              "3       36293.0  \n",
              "4      796275.0  \n",
              "..          ...  \n",
              "375    139932.5  \n",
              "376   1128494.0  \n",
              "377   3514618.3  \n",
              "378   1450578.0  \n",
              "379    225305.0  \n",
              "\n",
              "[380 rows x 13 columns]"
            ],
            "text/html": [
              "\n",
              "  <div id=\"df-0fde6d51-4e6f-49ef-8f83-14363c443a9d\">\n",
              "    <div class=\"colab-df-container\">\n",
              "      <div>\n",
              "<style scoped>\n",
              "    .dataframe tbody tr th:only-of-type {\n",
              "        vertical-align: middle;\n",
              "    }\n",
              "\n",
              "    .dataframe tbody tr th {\n",
              "        vertical-align: top;\n",
              "    }\n",
              "\n",
              "    .dataframe thead th {\n",
              "        text-align: right;\n",
              "    }\n",
              "</style>\n",
              "<table border=\"1\" class=\"dataframe\">\n",
              "  <thead>\n",
              "    <tr style=\"text-align: right;\">\n",
              "      <th></th>\n",
              "      <th>Data</th>\n",
              "      <th>Turno</th>\n",
              "      <th>Mandante</th>\n",
              "      <th>Placar do Mandante</th>\n",
              "      <th>Placar do Visitante</th>\n",
              "      <th>Visitante</th>\n",
              "      <th>Estádio</th>\n",
              "      <th>Horário</th>\n",
              "      <th>Gols do Mandante</th>\n",
              "      <th>Gols do Visitante</th>\n",
              "      <th>Público</th>\n",
              "      <th>Árbitro</th>\n",
              "      <th>Renda (R$)</th>\n",
              "    </tr>\n",
              "  </thead>\n",
              "  <tbody>\n",
              "    <tr>\n",
              "      <th>0</th>\n",
              "      <td>14/04/2018</td>\n",
              "      <td>1</td>\n",
              "      <td>Cruzeiro</td>\n",
              "      <td>0</td>\n",
              "      <td>1</td>\n",
              "      <td>Grêmio</td>\n",
              "      <td>Estádio Mineirão, Belo Horizonte</td>\n",
              "      <td>16:00</td>\n",
              "      <td>NaN</td>\n",
              "      <td>54' André</td>\n",
              "      <td>15446</td>\n",
              "      <td>PR Rodolpho Toski Marques</td>\n",
              "      <td>418305.0</td>\n",
              "    </tr>\n",
              "    <tr>\n",
              "      <th>1</th>\n",
              "      <td>14/04/2018</td>\n",
              "      <td>1</td>\n",
              "      <td>Vitória</td>\n",
              "      <td>2</td>\n",
              "      <td>2</td>\n",
              "      <td>Flamengo</td>\n",
              "      <td>Estádio Barradão, Salvador</td>\n",
              "      <td>19:00</td>\n",
              "      <td>Yago 13' (pen) Denílson 76'</td>\n",
              "      <td>1' Lucas Paquetá 72' Réver</td>\n",
              "      <td>12669</td>\n",
              "      <td>MT Wagner Reway</td>\n",
              "      <td>238994.0</td>\n",
              "    </tr>\n",
              "    <tr>\n",
              "      <th>2</th>\n",
              "      <td>14/04/2018</td>\n",
              "      <td>1</td>\n",
              "      <td>Santos</td>\n",
              "      <td>2</td>\n",
              "      <td>0</td>\n",
              "      <td>Ceará</td>\n",
              "      <td>Estádio do Pacaembu, São Paulo</td>\n",
              "      <td>21:00</td>\n",
              "      <td>Pio 41' Rodrygo 49'</td>\n",
              "      <td>NaN</td>\n",
              "      <td>12268</td>\n",
              "      <td>SC Rodrigo D'Alonso Ferreira</td>\n",
              "      <td>526550.0</td>\n",
              "    </tr>\n",
              "    <tr>\n",
              "      <th>3</th>\n",
              "      <td>15/04/2018</td>\n",
              "      <td>1</td>\n",
              "      <td>América Mineiro</td>\n",
              "      <td>3</td>\n",
              "      <td>0</td>\n",
              "      <td>Sport</td>\n",
              "      <td>Estádio Independência, Belo Horizonte</td>\n",
              "      <td>11:00</td>\n",
              "      <td>Serginho 1', 40' Carlinhos 36'</td>\n",
              "      <td>NaN</td>\n",
              "      <td>3230</td>\n",
              "      <td>DF Sávio Pereira Sampaio</td>\n",
              "      <td>36293.0</td>\n",
              "    </tr>\n",
              "    <tr>\n",
              "      <th>4</th>\n",
              "      <td>15/04/2018</td>\n",
              "      <td>1</td>\n",
              "      <td>Internacional</td>\n",
              "      <td>2</td>\n",
              "      <td>0</td>\n",
              "      <td>Bahia</td>\n",
              "      <td>Estádio Beira-Rio, Porto Alegre</td>\n",
              "      <td>16:00</td>\n",
              "      <td>Nico López 37', 60'</td>\n",
              "      <td>NaN</td>\n",
              "      <td>18460</td>\n",
              "      <td>GO Eduardo Tomaz de Aquino Valadão</td>\n",
              "      <td>796275.0</td>\n",
              "    </tr>\n",
              "    <tr>\n",
              "      <th>...</th>\n",
              "      <td>...</td>\n",
              "      <td>...</td>\n",
              "      <td>...</td>\n",
              "      <td>...</td>\n",
              "      <td>...</td>\n",
              "      <td>...</td>\n",
              "      <td>...</td>\n",
              "      <td>...</td>\n",
              "      <td>...</td>\n",
              "      <td>...</td>\n",
              "      <td>...</td>\n",
              "      <td>...</td>\n",
              "      <td>...</td>\n",
              "    </tr>\n",
              "    <tr>\n",
              "      <th>375</th>\n",
              "      <td>2/12/2018</td>\n",
              "      <td>2</td>\n",
              "      <td>Fluminense</td>\n",
              "      <td>1</td>\n",
              "      <td>0</td>\n",
              "      <td>América Mineiro</td>\n",
              "      <td>Estádio do Maracanã, Rio de Janeiro</td>\n",
              "      <td>17:00</td>\n",
              "      <td>Richard 40'</td>\n",
              "      <td>NaN</td>\n",
              "      <td>34870</td>\n",
              "      <td>PR Rafael Traci</td>\n",
              "      <td>139932.5</td>\n",
              "    </tr>\n",
              "    <tr>\n",
              "      <th>376</th>\n",
              "      <td>2/12/2018</td>\n",
              "      <td>2</td>\n",
              "      <td>Ceará</td>\n",
              "      <td>0</td>\n",
              "      <td>0</td>\n",
              "      <td>Vasco da Gama</td>\n",
              "      <td>Estádio Castelão, Fortaleza</td>\n",
              "      <td>17:00</td>\n",
              "      <td>NaN</td>\n",
              "      <td>NaN</td>\n",
              "      <td>57223</td>\n",
              "      <td>SP Raphael Claus</td>\n",
              "      <td>1128494.0</td>\n",
              "    </tr>\n",
              "    <tr>\n",
              "      <th>377</th>\n",
              "      <td>2/12/2018</td>\n",
              "      <td>2</td>\n",
              "      <td>Palmeiras</td>\n",
              "      <td>3</td>\n",
              "      <td>2</td>\n",
              "      <td>Vitória</td>\n",
              "      <td>Allianz Parque, São Paulo</td>\n",
              "      <td>17:00</td>\n",
              "      <td>Edu Dracena 42' Gustavo Scarpa 56' Bruno Henri...</td>\n",
              "      <td>70' (pen) Yago 72' Luan</td>\n",
              "      <td>41256</td>\n",
              "      <td>SC Héber Roberto Lopes</td>\n",
              "      <td>3514618.3</td>\n",
              "    </tr>\n",
              "    <tr>\n",
              "      <th>378</th>\n",
              "      <td>2/12/2018</td>\n",
              "      <td>2</td>\n",
              "      <td>Grêmio</td>\n",
              "      <td>1</td>\n",
              "      <td>0</td>\n",
              "      <td>Corinthians</td>\n",
              "      <td>Arena do Grêmio, Porto Alegre</td>\n",
              "      <td>17:00</td>\n",
              "      <td>Jael 11'</td>\n",
              "      <td>NaN</td>\n",
              "      <td>38974</td>\n",
              "      <td>MG Ricardo Marques Ribeiro</td>\n",
              "      <td>1450578.0</td>\n",
              "    </tr>\n",
              "    <tr>\n",
              "      <th>379</th>\n",
              "      <td>2/12/2018</td>\n",
              "      <td>2</td>\n",
              "      <td>Sport</td>\n",
              "      <td>2</td>\n",
              "      <td>1</td>\n",
              "      <td>Santos</td>\n",
              "      <td>Estádio Ilha do Retiro, Recife</td>\n",
              "      <td>17:00</td>\n",
              "      <td>Rogério 83' Hernane 90+1'</td>\n",
              "      <td>90+3' Rodrygo</td>\n",
              "      <td>15214</td>\n",
              "      <td>RS Anderson Daronco</td>\n",
              "      <td>225305.0</td>\n",
              "    </tr>\n",
              "  </tbody>\n",
              "</table>\n",
              "<p>380 rows × 13 columns</p>\n",
              "</div>\n",
              "      <button class=\"colab-df-convert\" onclick=\"convertToInteractive('df-0fde6d51-4e6f-49ef-8f83-14363c443a9d')\"\n",
              "              title=\"Convert this dataframe to an interactive table.\"\n",
              "              style=\"display:none;\">\n",
              "        \n",
              "  <svg xmlns=\"http://www.w3.org/2000/svg\" height=\"24px\"viewBox=\"0 0 24 24\"\n",
              "       width=\"24px\">\n",
              "    <path d=\"M0 0h24v24H0V0z\" fill=\"none\"/>\n",
              "    <path d=\"M18.56 5.44l.94 2.06.94-2.06 2.06-.94-2.06-.94-.94-2.06-.94 2.06-2.06.94zm-11 1L8.5 8.5l.94-2.06 2.06-.94-2.06-.94L8.5 2.5l-.94 2.06-2.06.94zm10 10l.94 2.06.94-2.06 2.06-.94-2.06-.94-.94-2.06-.94 2.06-2.06.94z\"/><path d=\"M17.41 7.96l-1.37-1.37c-.4-.4-.92-.59-1.43-.59-.52 0-1.04.2-1.43.59L10.3 9.45l-7.72 7.72c-.78.78-.78 2.05 0 2.83L4 21.41c.39.39.9.59 1.41.59.51 0 1.02-.2 1.41-.59l7.78-7.78 2.81-2.81c.8-.78.8-2.07 0-2.86zM5.41 20L4 18.59l7.72-7.72 1.47 1.35L5.41 20z\"/>\n",
              "  </svg>\n",
              "      </button>\n",
              "      \n",
              "  <style>\n",
              "    .colab-df-container {\n",
              "      display:flex;\n",
              "      flex-wrap:wrap;\n",
              "      gap: 12px;\n",
              "    }\n",
              "\n",
              "    .colab-df-convert {\n",
              "      background-color: #E8F0FE;\n",
              "      border: none;\n",
              "      border-radius: 50%;\n",
              "      cursor: pointer;\n",
              "      display: none;\n",
              "      fill: #1967D2;\n",
              "      height: 32px;\n",
              "      padding: 0 0 0 0;\n",
              "      width: 32px;\n",
              "    }\n",
              "\n",
              "    .colab-df-convert:hover {\n",
              "      background-color: #E2EBFA;\n",
              "      box-shadow: 0px 1px 2px rgba(60, 64, 67, 0.3), 0px 1px 3px 1px rgba(60, 64, 67, 0.15);\n",
              "      fill: #174EA6;\n",
              "    }\n",
              "\n",
              "    [theme=dark] .colab-df-convert {\n",
              "      background-color: #3B4455;\n",
              "      fill: #D2E3FC;\n",
              "    }\n",
              "\n",
              "    [theme=dark] .colab-df-convert:hover {\n",
              "      background-color: #434B5C;\n",
              "      box-shadow: 0px 1px 3px 1px rgba(0, 0, 0, 0.15);\n",
              "      filter: drop-shadow(0px 1px 2px rgba(0, 0, 0, 0.3));\n",
              "      fill: #FFFFFF;\n",
              "    }\n",
              "  </style>\n",
              "\n",
              "      <script>\n",
              "        const buttonEl =\n",
              "          document.querySelector('#df-0fde6d51-4e6f-49ef-8f83-14363c443a9d button.colab-df-convert');\n",
              "        buttonEl.style.display =\n",
              "          google.colab.kernel.accessAllowed ? 'block' : 'none';\n",
              "\n",
              "        async function convertToInteractive(key) {\n",
              "          const element = document.querySelector('#df-0fde6d51-4e6f-49ef-8f83-14363c443a9d');\n",
              "          const dataTable =\n",
              "            await google.colab.kernel.invokeFunction('convertToInteractive',\n",
              "                                                     [key], {});\n",
              "          if (!dataTable) return;\n",
              "\n",
              "          const docLinkHtml = 'Like what you see? Visit the ' +\n",
              "            '<a target=\"_blank\" href=https://colab.research.google.com/notebooks/data_table.ipynb>data table notebook</a>'\n",
              "            + ' to learn more about interactive tables.';\n",
              "          element.innerHTML = '';\n",
              "          dataTable['output_type'] = 'display_data';\n",
              "          await google.colab.output.renderOutput(dataTable, element);\n",
              "          const docLink = document.createElement('div');\n",
              "          docLink.innerHTML = docLinkHtml;\n",
              "          element.appendChild(docLink);\n",
              "        }\n",
              "      </script>\n",
              "    </div>\n",
              "  </div>\n",
              "  "
            ]
          },
          "metadata": {},
          "execution_count": 561
        }
      ]
    },
    {
      "cell_type": "code",
      "source": [
        "def renda_media(x):\n",
        "    x=tabela.query(\"Mandante == @time\")['Renda (R$)'].mean()\n",
        "    print(f'A renda média do' ,time,f'como mandante foi de R${x:.2f}')"
      ],
      "metadata": {
        "id": "tFHWWkG0l4jK"
      },
      "execution_count": 562,
      "outputs": []
    },
    {
      "cell_type": "code",
      "source": [
        "time='Santos'\n",
        "renda_media(time)"
      ],
      "metadata": {
        "colab": {
          "base_uri": "https://localhost:8080/"
        },
        "id": "I7ZSkQpurc30",
        "outputId": "d62f6a53-3b34-4d3f-fe8d-2f22f98e061b"
      },
      "execution_count": 563,
      "outputs": [
        {
          "output_type": "stream",
          "name": "stdout",
          "text": [
            "A renda média do Santos como mandante foi de R$282484.97\n"
          ]
        }
      ]
    },
    {
      "cell_type": "code",
      "source": [
        "time='Corinthians'\n",
        "renda_media(time)"
      ],
      "metadata": {
        "colab": {
          "base_uri": "https://localhost:8080/"
        },
        "id": "pZOhuruFy9a2",
        "outputId": "ae58bd4b-3dc6-4c46-b038-bfee058aacac"
      },
      "execution_count": 564,
      "outputs": [
        {
          "output_type": "stream",
          "name": "stdout",
          "text": [
            "A renda média do Corinthians como mandante foi de R$1335614.75\n"
          ]
        }
      ]
    },
    {
      "cell_type": "code",
      "source": [
        "time='Palmeiras'\n",
        "renda_media(time)"
      ],
      "metadata": {
        "colab": {
          "base_uri": "https://localhost:8080/"
        },
        "id": "dmFJTdezy9MM",
        "outputId": "d2f5c056-2592-4369-e4e3-32c73b320112"
      },
      "execution_count": 565,
      "outputs": [
        {
          "output_type": "stream",
          "name": "stdout",
          "text": [
            "A renda média do Palmeiras como mandante foi de R$1957134.45\n"
          ]
        }
      ]
    },
    {
      "cell_type": "code",
      "source": [
        "time='São Paulo'\n",
        "renda_media(time)"
      ],
      "metadata": {
        "colab": {
          "base_uri": "https://localhost:8080/"
        },
        "id": "C34sx0d_y8-N",
        "outputId": "d6c39482-0b89-444c-cd8b-ca5d792ec5d0"
      },
      "execution_count": 566,
      "outputs": [
        {
          "output_type": "stream",
          "name": "stdout",
          "text": [
            "A renda média do São Paulo como mandante foi de R$1188518.74\n"
          ]
        }
      ]
    },
    {
      "cell_type": "markdown",
      "source": [
        "**4)** Dados valores **x1**, **y1**, **x2**, **y2**, sendo esses valores das coordenadas $(x_1, y_1)$ e $(x_2, y_2)$ de dois pontos. \n",
        "\n",
        "Fazer uma função que encontre a inclinação da reta **m** e o ponto **b** em que a reta cruza o eixo y da reta $y = mx+b$ que passa pelos dois pontos. Além disso deve ser feito o gráfico da reta encontrada com **N** pontos, além de mostrar os dois pontos dados como entrada, indicados com marcadores quadrados.\n",
        "\n",
        "Essa função deve retornar **m** e **b** e receber como parâmetros **x1**, **y1**, **x2**, **y2** e **N**.\n",
        "\n",
        "Dica: a inclinação de uma reta, dados dois pontos é:\n",
        "\n",
        "$$m = \\frac{y_2-y_1}{x_2-x_1} $$\n",
        "\n",
        "e o ponto que cruza o eixo y é:\n",
        "\n",
        "$$b = y_1 - mx_1$$\n",
        "\n",
        "Teste para: \n",
        "\n",
        "- a) x1 = -19, y1 = 2, x2 = 10, y2 = -10, N = 1000\n",
        "- b) x1 = -2, y1 = 8, x2 = 20, y2 = 43, N = 2000\n",
        "- c) x1 = 7, y1 = 13, x2 = 1, y2 = 2, N = 500"
      ],
      "metadata": {
        "id": "yHS3BG9B5ZWW"
      }
    },
    {
      "cell_type": "code",
      "source": [
        "def funcaoretam(x1, y1, x2, y2, N):\n",
        "    m=(y2-y1)/(x2-x1)\n",
        "    \n",
        "    return m\n",
        "def funcaoretab(x1, y1, x2, y2, N):\n",
        "    b=y1-m*x1\n",
        "\n",
        "    return b"
      ],
      "metadata": {
        "id": "_R1OBrNgQ5iz"
      },
      "execution_count": 567,
      "outputs": []
    },
    {
      "cell_type": "code",
      "source": [
        "x1=-19\n",
        "y1=2\n",
        "x2=10\n",
        "y2=-10\n",
        "N=1000\n",
        "m=funcaoretam(x1, y1, x2, y2, N)\n",
        "b=funcaoretab(x1, y1, x2, y2, N)\n",
        "x=np.linspace(x1-20,x2+20, N)\n",
        "y=m*x+b\n",
        "\n",
        "print(f'A inclinação da reta é {m:.3f},',f'a reta cruza o eixo y em {b:.3f}')\n",
        "\n",
        "plt.figure(figsize=(6,4))\n",
        "plt.plot(x,y, marker='', color='blue', linestyle='-')\n",
        "plt.plot(x1, y1, marker='s', color='red', linestyle='-.')\n",
        "plt.plot(x2, y2, marker='s', color='red', linestyle='-.')\n",
        "plt.xlabel('x', fontsize=25)\n",
        "plt.ylabel('y', fontsize=25)\n",
        "plt.grid()\n",
        "plt.show()"
      ],
      "metadata": {
        "colab": {
          "base_uri": "https://localhost:8080/",
          "height": 310
        },
        "id": "paC4repFLjUr",
        "outputId": "e9d88f60-95f9-4a16-d67a-8ee8851c8cf2"
      },
      "execution_count": 568,
      "outputs": [
        {
          "output_type": "stream",
          "name": "stdout",
          "text": [
            "A inclinação da reta é -0.414, a reta cruza o eixo y em -5.862\n"
          ]
        },
        {
          "output_type": "display_data",
          "data": {
            "text/plain": [
              "<Figure size 432x288 with 1 Axes>"
            ],
            "image/png": "[encoded data removed]"
          },
          "metadata": {
            "needs_background": "light"
          }
        }
      ]
    },
    {
      "cell_type": "code",
      "source": [
        "x1=-2\n",
        "y1=8\n",
        "x2=20\n",
        "y2=-43\n",
        "N=2000\n",
        "\n",
        "m=funcaoretam(x1, y1, x2, y2, N)\n",
        "b=funcaoretab(x1, y1, x2, y2, N)\n",
        "x=np.linspace(x1-20,x2+20, N)\n",
        "y=m*x+b\n",
        "\n",
        "print(f'A inclinação da reta é {m:.3f},',f'a reta cruza o eixo y em {b:.3f}')\n",
        "\n",
        "plt.figure(figsize=(6,4))\n",
        "plt.plot(x,y, marker='', color='blue', linestyle='-')\n",
        "plt.plot(x1, y1, marker='s', color='red', linestyle='-.')\n",
        "plt.plot(x2, y2, marker='s', color='red', linestyle='-.')\n",
        "plt.xlabel('x', fontsize=25)\n",
        "plt.ylabel('y', fontsize=25)\n",
        "plt.grid()\n",
        "plt.show()"
      ],
      "metadata": {
        "colab": {
          "base_uri": "https://localhost:8080/",
          "height": 312
        },
        "id": "D6xWuA8YM2Qj",
        "outputId": "b84be84e-197c-475a-9c65-84266832f4fb"
      },
      "execution_count": 569,
      "outputs": [
        {
          "output_type": "stream",
          "name": "stdout",
          "text": [
            "A inclinação da reta é -2.318, a reta cruza o eixo y em 3.364\n"
          ]
        },
        {
          "output_type": "display_data",
          "data": {
            "text/plain": [
              "<Figure size 432x288 with 1 Axes>"
            ],
            "image/png": "[encoded data removed]"
          },
          "metadata": {
            "needs_background": "light"
          }
        }
      ]
    },
    {
      "cell_type": "code",
      "source": [
        "x1=7\n",
        "y1=13\n",
        "x2=1\n",
        "y2=2\n",
        "N=500\n",
        "\n",
        "m=funcaoretam(x1, y1, x2, y2, N)\n",
        "b=funcaoretab(x1, y1, x2, y2, N)\n",
        "x=np.linspace(x1-20,x2+20, N)\n",
        "y=m*x+b\n",
        "\n",
        "print(f'A inclinação da reta é {m:.3f},',f'a reta cruza o eixo y em {b:.3f}')\n",
        "\n",
        "plt.figure(figsize=(6,4))\n",
        "plt.plot(x,y, marker='', color='blue', linestyle='-')\n",
        "plt.plot(x1, y1, marker='s', color='red', linestyle='-.')\n",
        "plt.plot(x2, y2, marker='s', color='red', linestyle='-.')\n",
        "plt.xlabel('x', fontsize=25)\n",
        "plt.ylabel('y', fontsize=25)\n",
        "plt.grid()\n",
        "plt.show()"
      ],
      "metadata": {
        "colab": {
          "base_uri": "https://localhost:8080/",
          "height": 310
        },
        "id": "52AZ6s5tTmqD",
        "outputId": "89381d1b-a9bb-41e7-e569-db9294de26f8"
      },
      "execution_count": 570,
      "outputs": [
        {
          "output_type": "stream",
          "name": "stdout",
          "text": [
            "A inclinação da reta é 1.833, a reta cruza o eixo y em 0.167\n"
          ]
        },
        {
          "output_type": "display_data",
          "data": {
            "text/plain": [
              "<Figure size 432x288 with 1 Axes>"
            ],
            "image/png": "[encoded data removed]"
          },
          "metadata": {
            "needs_background": "light"
          }
        }
      ]
    },
    {
      "cell_type": "code",
      "source": [],
      "metadata": {
        "id": "PCivGOqzeAFf"
      },
      "execution_count": 570,
      "outputs": []
    }
  ]
}